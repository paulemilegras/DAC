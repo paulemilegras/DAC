{
 "cells": [
  {
   "cell_type": "code",
   "execution_count": 1,
   "metadata": {},
   "outputs": [],
   "source": [
    "import pandas as pd\n",
    "import numpy as np"
   ]
  },
  {
   "cell_type": "code",
   "execution_count": 2,
   "metadata": {},
   "outputs": [
    {
     "data": {
      "text/html": [
       "<div>\n",
       "<style scoped>\n",
       "    .dataframe tbody tr th:only-of-type {\n",
       "        vertical-align: middle;\n",
       "    }\n",
       "\n",
       "    .dataframe tbody tr th {\n",
       "        vertical-align: top;\n",
       "    }\n",
       "\n",
       "    .dataframe thead th {\n",
       "        text-align: right;\n",
       "    }\n",
       "</style>\n",
       "<table border=\"1\" class=\"dataframe\">\n",
       "  <thead>\n",
       "    <tr style=\"text-align: right;\">\n",
       "      <th></th>\n",
       "      <th>Product_Code</th>\n",
       "      <th>Warehouse</th>\n",
       "      <th>Product_Category</th>\n",
       "      <th>Date</th>\n",
       "      <th>Order_Demand</th>\n",
       "    </tr>\n",
       "  </thead>\n",
       "  <tbody>\n",
       "    <tr>\n",
       "      <th>0</th>\n",
       "      <td>Product_0993</td>\n",
       "      <td>Whse_J</td>\n",
       "      <td>Category_028</td>\n",
       "      <td>2012-07-27</td>\n",
       "      <td>100</td>\n",
       "    </tr>\n",
       "    <tr>\n",
       "      <th>1</th>\n",
       "      <td>Product_0979</td>\n",
       "      <td>Whse_J</td>\n",
       "      <td>Category_028</td>\n",
       "      <td>2012-01-19</td>\n",
       "      <td>500</td>\n",
       "    </tr>\n",
       "    <tr>\n",
       "      <th>2</th>\n",
       "      <td>Product_0979</td>\n",
       "      <td>Whse_J</td>\n",
       "      <td>Category_028</td>\n",
       "      <td>2012-02-03</td>\n",
       "      <td>500</td>\n",
       "    </tr>\n",
       "    <tr>\n",
       "      <th>3</th>\n",
       "      <td>Product_0979</td>\n",
       "      <td>Whse_J</td>\n",
       "      <td>Category_028</td>\n",
       "      <td>2012-02-09</td>\n",
       "      <td>500</td>\n",
       "    </tr>\n",
       "    <tr>\n",
       "      <th>4</th>\n",
       "      <td>Product_0979</td>\n",
       "      <td>Whse_J</td>\n",
       "      <td>Category_028</td>\n",
       "      <td>2012-03-02</td>\n",
       "      <td>500</td>\n",
       "    </tr>\n",
       "    <tr>\n",
       "      <th>...</th>\n",
       "      <td>...</td>\n",
       "      <td>...</td>\n",
       "      <td>...</td>\n",
       "      <td>...</td>\n",
       "      <td>...</td>\n",
       "    </tr>\n",
       "    <tr>\n",
       "      <th>1048570</th>\n",
       "      <td>Product_1791</td>\n",
       "      <td>Whse_J</td>\n",
       "      <td>Category_006</td>\n",
       "      <td>2016-04-27</td>\n",
       "      <td>1000</td>\n",
       "    </tr>\n",
       "    <tr>\n",
       "      <th>1048571</th>\n",
       "      <td>Product_1974</td>\n",
       "      <td>Whse_J</td>\n",
       "      <td>Category_006</td>\n",
       "      <td>2016-04-27</td>\n",
       "      <td>1</td>\n",
       "    </tr>\n",
       "    <tr>\n",
       "      <th>1048572</th>\n",
       "      <td>Product_1787</td>\n",
       "      <td>Whse_J</td>\n",
       "      <td>Category_006</td>\n",
       "      <td>2016-04-28</td>\n",
       "      <td>2500</td>\n",
       "    </tr>\n",
       "    <tr>\n",
       "      <th>1048573</th>\n",
       "      <td>Product_0901</td>\n",
       "      <td>Whse_J</td>\n",
       "      <td>Category_023</td>\n",
       "      <td>2016-10-07</td>\n",
       "      <td>50</td>\n",
       "    </tr>\n",
       "    <tr>\n",
       "      <th>1048574</th>\n",
       "      <td>Product_0704</td>\n",
       "      <td>Whse_J</td>\n",
       "      <td>Category_001</td>\n",
       "      <td>2016-06-27</td>\n",
       "      <td>4</td>\n",
       "    </tr>\n",
       "  </tbody>\n",
       "</table>\n",
       "<p>1048575 rows × 5 columns</p>\n",
       "</div>"
      ],
      "text/plain": [
       "         Product_Code Warehouse Product_Category       Date  Order_Demand\n",
       "0        Product_0993    Whse_J     Category_028 2012-07-27           100\n",
       "1        Product_0979    Whse_J     Category_028 2012-01-19           500\n",
       "2        Product_0979    Whse_J     Category_028 2012-02-03           500\n",
       "3        Product_0979    Whse_J     Category_028 2012-02-09           500\n",
       "4        Product_0979    Whse_J     Category_028 2012-03-02           500\n",
       "...               ...       ...              ...        ...           ...\n",
       "1048570  Product_1791    Whse_J     Category_006 2016-04-27          1000\n",
       "1048571  Product_1974    Whse_J     Category_006 2016-04-27             1\n",
       "1048572  Product_1787    Whse_J     Category_006 2016-04-28          2500\n",
       "1048573  Product_0901    Whse_J     Category_023 2016-10-07            50\n",
       "1048574  Product_0704    Whse_J     Category_001 2016-06-27             4\n",
       "\n",
       "[1048575 rows x 5 columns]"
      ]
     },
     "execution_count": 2,
     "metadata": {},
     "output_type": "execute_result"
    }
   ],
   "source": [
    "df = pd.read_csv('/Users/arthur.pentecoste/ProjectRA/Demand_Case_Study/Historical Product Demand.csv', parse_dates= [\"Date\"])\n",
    "df"
   ]
  },
  {
   "cell_type": "markdown",
   "metadata": {},
   "source": [
    "# Trends + Seasonality"
   ]
  },
  {
   "cell_type": "code",
   "execution_count": 3,
   "metadata": {},
   "outputs": [],
   "source": [
    "df['trend'] = df['Date'].dt.year #year\n",
    "df['seasonality'] = df['Date'].dt.month #month"
   ]
  },
  {
   "cell_type": "markdown",
   "metadata": {},
   "source": [
    "# Encoding of Warehouse, Category and Trend "
   ]
  },
  {
   "cell_type": "code",
   "execution_count": 6,
   "metadata": {},
   "outputs": [],
   "source": [
    "data = pd.get_dummies(data=df, columns=['Warehouse','Product_Category','seasonality'])"
   ]
  },
  {
   "cell_type": "code",
   "execution_count": 7,
   "metadata": {},
   "outputs": [
    {
     "data": {
      "text/plain": [
       "Index(['Product_Code', 'Date', 'Order_Demand', 'trend', 'Warehouse_Whse_A',\n",
       "       'Warehouse_Whse_C', 'Warehouse_Whse_J', 'Warehouse_Whse_S',\n",
       "       'Product_Category_Category_001', 'Product_Category_Category_002',\n",
       "       'Product_Category_Category_003', 'Product_Category_Category_004',\n",
       "       'Product_Category_Category_005', 'Product_Category_Category_006',\n",
       "       'Product_Category_Category_007', 'Product_Category_Category_008',\n",
       "       'Product_Category_Category_009', 'Product_Category_Category_010',\n",
       "       'Product_Category_Category_011', 'Product_Category_Category_012',\n",
       "       'Product_Category_Category_013', 'Product_Category_Category_014',\n",
       "       'Product_Category_Category_015', 'Product_Category_Category_016',\n",
       "       'Product_Category_Category_017', 'Product_Category_Category_018',\n",
       "       'Product_Category_Category_019', 'Product_Category_Category_020',\n",
       "       'Product_Category_Category_021', 'Product_Category_Category_022',\n",
       "       'Product_Category_Category_023', 'Product_Category_Category_024',\n",
       "       'Product_Category_Category_025', 'Product_Category_Category_026',\n",
       "       'Product_Category_Category_027', 'Product_Category_Category_028',\n",
       "       'Product_Category_Category_029', 'Product_Category_Category_030',\n",
       "       'Product_Category_Category_031', 'Product_Category_Category_032',\n",
       "       'Product_Category_Category_033', 'seasonality_1.0', 'seasonality_2.0',\n",
       "       'seasonality_3.0', 'seasonality_4.0', 'seasonality_5.0',\n",
       "       'seasonality_6.0', 'seasonality_7.0', 'seasonality_8.0',\n",
       "       'seasonality_9.0', 'seasonality_10.0', 'seasonality_11.0',\n",
       "       'seasonality_12.0'],\n",
       "      dtype='object')"
      ]
     },
     "execution_count": 7,
     "metadata": {},
     "output_type": "execute_result"
    }
   ],
   "source": [
    "data.columns"
   ]
  },
  {
   "cell_type": "code",
   "execution_count": 8,
   "metadata": {},
   "outputs": [],
   "source": [
    "data.to_csv(\"Historical_Deman_preprocess.csv\")"
   ]
  },
  {
   "cell_type": "code",
   "execution_count": null,
   "metadata": {},
   "outputs": [],
   "source": []
  }
 ],
 "metadata": {
  "kernelspec": {
   "display_name": "Python 3",
   "language": "python",
   "name": "python3"
  },
  "language_info": {
   "codemirror_mode": {
    "name": "ipython",
    "version": 3
   },
   "file_extension": ".py",
   "mimetype": "text/x-python",
   "name": "python",
   "nbconvert_exporter": "python",
   "pygments_lexer": "ipython3",
   "version": "3.7.4"
  }
 },
 "nbformat": 4,
 "nbformat_minor": 2
}
